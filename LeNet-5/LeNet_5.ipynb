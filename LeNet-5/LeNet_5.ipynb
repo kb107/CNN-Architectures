{
  "nbformat": 4,
  "nbformat_minor": 0,
  "metadata": {
    "colab": {
      "name": "LeNet-5.ipynb",
      "provenance": [],
      "authorship_tag": "ABX9TyPnKCm3bqGApv5+GfkwvfBP",
      "include_colab_link": true
    },
    "kernelspec": {
      "name": "python3",
      "display_name": "Python 3"
    },
    "language_info": {
      "name": "python"
    }
  },
  "cells": [
    {
      "cell_type": "markdown",
      "metadata": {
        "id": "view-in-github",
        "colab_type": "text"
      },
      "source": [
        "<a href=\"https://colab.research.google.com/github/kb107/CNN-Architectures/blob/main/LeNet-5/LeNet_5.ipynb\" target=\"_parent\"><img src=\"https://colab.research.google.com/assets/colab-badge.svg\" alt=\"Open In Colab\"/></a>"
      ]
    },
    {
      "cell_type": "code",
      "metadata": {
        "id": "Ofh9QqFRSkNN"
      },
      "source": [
        "import tensorflow as tf\n",
        "import numpy as np \n",
        "from tensorflow import keras\n",
        "import sklearn\n",
        "import pandas as pd\n",
        "import seaborn as sns"
      ],
      "execution_count": 75,
      "outputs": []
    },
    {
      "cell_type": "code",
      "metadata": {
        "id": "yS3B2yB2SyXK"
      },
      "source": [
        "(X_train, y_train), (X_test, y_test) = keras.datasets.mnist.load_data()"
      ],
      "execution_count": 52,
      "outputs": []
    },
    {
      "cell_type": "code",
      "metadata": {
        "colab": {
          "base_uri": "https://localhost:8080/"
        },
        "id": "vB01T99iTXSX",
        "outputId": "50222ed2-8217-4333-94bd-bea3c5e6321d"
      },
      "source": [
        "X_train.shape"
      ],
      "execution_count": 53,
      "outputs": [
        {
          "output_type": "execute_result",
          "data": {
            "text/plain": [
              "(60000, 28, 28)"
            ]
          },
          "metadata": {},
          "execution_count": 53
        }
      ]
    },
    {
      "cell_type": "code",
      "metadata": {
        "colab": {
          "base_uri": "https://localhost:8080/"
        },
        "id": "h1HekoPnTZaV",
        "outputId": "286c1caf-7a1e-4989-de6a-347737d65ebb"
      },
      "source": [
        "X_train = tf.expand_dims(X_train, axis=3)\n",
        "X_test = tf.expand_dims(X_test, axis=3)\n",
        "X_train.shape"
      ],
      "execution_count": 54,
      "outputs": [
        {
          "output_type": "execute_result",
          "data": {
            "text/plain": [
              "TensorShape([60000, 28, 28, 1])"
            ]
          },
          "metadata": {},
          "execution_count": 54
        }
      ]
    },
    {
      "cell_type": "code",
      "metadata": {
        "id": "l0xFA_dRT82r"
      },
      "source": [
        "X_train = X_train / 255\n",
        "X_test = X_test / 255"
      ],
      "execution_count": 55,
      "outputs": []
    },
    {
      "cell_type": "code",
      "metadata": {
        "colab": {
          "base_uri": "https://localhost:8080/"
        },
        "id": "w0W6ZZRtUKq8",
        "outputId": "f2178eb6-eb0c-4724-fa2c-f8c728e784ce"
      },
      "source": [
        "X_valid = X_train[:6000]\n",
        "y_valid = y_train[:6000]\n",
        "X_train = X_train[6000:]\n",
        "y_train = y_train[6000:]\n",
        "X_valid.shape"
      ],
      "execution_count": 56,
      "outputs": [
        {
          "output_type": "execute_result",
          "data": {
            "text/plain": [
              "TensorShape([6000, 28, 28, 1])"
            ]
          },
          "metadata": {},
          "execution_count": 56
        }
      ]
    },
    {
      "cell_type": "code",
      "metadata": {
        "id": "dxwkBJB2b8T-"
      },
      "source": [
        "from tensorflow.keras.utils import to_categorical\n",
        "\n",
        "y_train = to_categorical(y_train)\n",
        "y_valid = to_categorical(y_valid)\n",
        "y_test = to_categorical(y_test)"
      ],
      "execution_count": 57,
      "outputs": []
    },
    {
      "cell_type": "code",
      "metadata": {
        "colab": {
          "base_uri": "https://localhost:8080/"
        },
        "id": "rdwiErVHU8Qh",
        "outputId": "e3b4b6d8-71d1-4bf0-d9b4-63bf87e241dc"
      },
      "source": [
        "y_valid.shape"
      ],
      "execution_count": 58,
      "outputs": [
        {
          "output_type": "execute_result",
          "data": {
            "text/plain": [
              "(6000, 10)"
            ]
          },
          "metadata": {},
          "execution_count": 58
        }
      ]
    },
    {
      "cell_type": "code",
      "metadata": {
        "id": "cu7wwnYIVJYO"
      },
      "source": [
        "from keras.models import Sequential\n",
        "from keras.layers import Dense, Conv2D, AveragePooling2D, Flatten\n",
        "\n",
        "model = Sequential([Conv2D(filters=6, kernel_size=5, strides=1, \n",
        "                           padding='same', activation='tanh',\n",
        "                           input_shape=X_train[0].shape),\n",
        "                    \n",
        "                    AveragePooling2D(pool_size=2, strides=2),\n",
        "                    \n",
        "                    Conv2D(filters=16, kernel_size=5, strides=1, \n",
        "                           activation='tanh'),\n",
        "                    \n",
        "                    AveragePooling2D(pool_size=2, strides=2),\n",
        "                    \n",
        "                    Conv2D(filters=120, kernel_size=5, strides=1, \n",
        "                           activation='tanh'),\n",
        "                    \n",
        "                    Flatten(),\n",
        "\n",
        "                    Dense(units=120, activation='tanh'),\n",
        "\n",
        "                    Dense(units=84, activation='tanh'),\n",
        "\n",
        "                    Dense(units=10, activation='softmax')\n",
        "                    ])"
      ],
      "execution_count": 59,
      "outputs": []
    },
    {
      "cell_type": "code",
      "metadata": {
        "id": "zcKsgKzWZH6A"
      },
      "source": [
        "model.compile(optimizer='adam', loss='categorical_crossentropy', metrics=['accuracy'])"
      ],
      "execution_count": 60,
      "outputs": []
    },
    {
      "cell_type": "code",
      "metadata": {
        "colab": {
          "base_uri": "https://localhost:8080/"
        },
        "id": "tnQRqEP4aBG8",
        "outputId": "9d5ca48a-f42f-43ab-9684-6bdbe520384c"
      },
      "source": [
        "model.summary()"
      ],
      "execution_count": 61,
      "outputs": [
        {
          "output_type": "stream",
          "text": [
            "Model: \"sequential_2\"\n",
            "_________________________________________________________________\n",
            "Layer (type)                 Output Shape              Param #   \n",
            "=================================================================\n",
            "conv2d_6 (Conv2D)            (None, 28, 28, 6)         156       \n",
            "_________________________________________________________________\n",
            "average_pooling2d_4 (Average (None, 14, 14, 6)         0         \n",
            "_________________________________________________________________\n",
            "conv2d_7 (Conv2D)            (None, 10, 10, 16)        2416      \n",
            "_________________________________________________________________\n",
            "average_pooling2d_5 (Average (None, 5, 5, 16)          0         \n",
            "_________________________________________________________________\n",
            "conv2d_8 (Conv2D)            (None, 1, 1, 120)         48120     \n",
            "_________________________________________________________________\n",
            "flatten_2 (Flatten)          (None, 120)               0         \n",
            "_________________________________________________________________\n",
            "dense_6 (Dense)              (None, 120)               14520     \n",
            "_________________________________________________________________\n",
            "dense_7 (Dense)              (None, 84)                10164     \n",
            "_________________________________________________________________\n",
            "dense_8 (Dense)              (None, 10)                850       \n",
            "=================================================================\n",
            "Total params: 76,226\n",
            "Trainable params: 76,226\n",
            "Non-trainable params: 0\n",
            "_________________________________________________________________\n"
          ],
          "name": "stdout"
        }
      ]
    },
    {
      "cell_type": "code",
      "metadata": {
        "colab": {
          "base_uri": "https://localhost:8080/"
        },
        "id": "lx11TZLnaDFT",
        "outputId": "c7052223-1913-4b99-962b-f5467a4d3b42"
      },
      "source": [
        "from keras.callbacks import EarlyStopping\n",
        "\n",
        "early_stop = EarlyStopping(monitor='val_loss', patience=2, restore_best_weights=True)\n",
        "\n",
        "history = model.fit(X_train, y_train, validation_data=(X_valid, y_valid), \n",
        "                    epochs=50, callbacks=[early_stop])"
      ],
      "execution_count": 62,
      "outputs": [
        {
          "output_type": "stream",
          "text": [
            "Epoch 1/50\n",
            "1688/1688 [==============================] - 43s 25ms/step - loss: 0.2598 - accuracy: 0.9212 - val_loss: 0.1199 - val_accuracy: 0.9645\n",
            "Epoch 2/50\n",
            "1688/1688 [==============================] - 42s 25ms/step - loss: 0.1097 - accuracy: 0.9663 - val_loss: 0.0895 - val_accuracy: 0.9728\n",
            "Epoch 3/50\n",
            "1688/1688 [==============================] - 41s 24ms/step - loss: 0.0754 - accuracy: 0.9767 - val_loss: 0.0819 - val_accuracy: 0.9763\n",
            "Epoch 4/50\n",
            "1688/1688 [==============================] - 42s 25ms/step - loss: 0.0589 - accuracy: 0.9810 - val_loss: 0.0796 - val_accuracy: 0.9755\n",
            "Epoch 5/50\n",
            "1688/1688 [==============================] - 44s 26ms/step - loss: 0.0467 - accuracy: 0.9851 - val_loss: 0.0624 - val_accuracy: 0.9823\n",
            "Epoch 6/50\n",
            "1688/1688 [==============================] - 44s 26ms/step - loss: 0.0387 - accuracy: 0.9874 - val_loss: 0.0565 - val_accuracy: 0.9817\n",
            "Epoch 7/50\n",
            "1688/1688 [==============================] - 44s 26ms/step - loss: 0.0319 - accuracy: 0.9896 - val_loss: 0.0625 - val_accuracy: 0.9830\n",
            "Epoch 8/50\n",
            "1688/1688 [==============================] - 44s 26ms/step - loss: 0.0272 - accuracy: 0.9911 - val_loss: 0.0496 - val_accuracy: 0.9868\n",
            "Epoch 9/50\n",
            "1688/1688 [==============================] - 44s 26ms/step - loss: 0.0246 - accuracy: 0.9919 - val_loss: 0.0560 - val_accuracy: 0.9847\n",
            "Epoch 10/50\n",
            "1688/1688 [==============================] - 43s 26ms/step - loss: 0.0220 - accuracy: 0.9926 - val_loss: 0.0613 - val_accuracy: 0.9825\n"
          ],
          "name": "stdout"
        }
      ]
    },
    {
      "cell_type": "code",
      "metadata": {
        "colab": {
          "base_uri": "https://localhost:8080/",
          "height": 205
        },
        "id": "pQlVU3zCa93B",
        "outputId": "986b324a-6bc6-4c1a-b636-744ba5833379"
      },
      "source": [
        "losses = pd.DataFrame(history.history)\n",
        "losses.head()"
      ],
      "execution_count": 64,
      "outputs": [
        {
          "output_type": "execute_result",
          "data": {
            "text/html": [
              "<div>\n",
              "<style scoped>\n",
              "    .dataframe tbody tr th:only-of-type {\n",
              "        vertical-align: middle;\n",
              "    }\n",
              "\n",
              "    .dataframe tbody tr th {\n",
              "        vertical-align: top;\n",
              "    }\n",
              "\n",
              "    .dataframe thead th {\n",
              "        text-align: right;\n",
              "    }\n",
              "</style>\n",
              "<table border=\"1\" class=\"dataframe\">\n",
              "  <thead>\n",
              "    <tr style=\"text-align: right;\">\n",
              "      <th></th>\n",
              "      <th>loss</th>\n",
              "      <th>accuracy</th>\n",
              "      <th>val_loss</th>\n",
              "      <th>val_accuracy</th>\n",
              "    </tr>\n",
              "  </thead>\n",
              "  <tbody>\n",
              "    <tr>\n",
              "      <th>0</th>\n",
              "      <td>0.259850</td>\n",
              "      <td>0.921185</td>\n",
              "      <td>0.119949</td>\n",
              "      <td>0.964500</td>\n",
              "    </tr>\n",
              "    <tr>\n",
              "      <th>1</th>\n",
              "      <td>0.109744</td>\n",
              "      <td>0.966296</td>\n",
              "      <td>0.089528</td>\n",
              "      <td>0.972833</td>\n",
              "    </tr>\n",
              "    <tr>\n",
              "      <th>2</th>\n",
              "      <td>0.075415</td>\n",
              "      <td>0.976722</td>\n",
              "      <td>0.081908</td>\n",
              "      <td>0.976333</td>\n",
              "    </tr>\n",
              "    <tr>\n",
              "      <th>3</th>\n",
              "      <td>0.058893</td>\n",
              "      <td>0.981019</td>\n",
              "      <td>0.079644</td>\n",
              "      <td>0.975500</td>\n",
              "    </tr>\n",
              "    <tr>\n",
              "      <th>4</th>\n",
              "      <td>0.046689</td>\n",
              "      <td>0.985148</td>\n",
              "      <td>0.062360</td>\n",
              "      <td>0.982333</td>\n",
              "    </tr>\n",
              "  </tbody>\n",
              "</table>\n",
              "</div>"
            ],
            "text/plain": [
              "       loss  accuracy  val_loss  val_accuracy\n",
              "0  0.259850  0.921185  0.119949      0.964500\n",
              "1  0.109744  0.966296  0.089528      0.972833\n",
              "2  0.075415  0.976722  0.081908      0.976333\n",
              "3  0.058893  0.981019  0.079644      0.975500\n",
              "4  0.046689  0.985148  0.062360      0.982333"
            ]
          },
          "metadata": {},
          "execution_count": 64
        }
      ]
    },
    {
      "cell_type": "code",
      "metadata": {
        "colab": {
          "base_uri": "https://localhost:8080/",
          "height": 282
        },
        "id": "ZfMyRZAyg2MR",
        "outputId": "6c7574bc-6325-4c2b-f4e1-d16ec530bb81"
      },
      "source": [
        "losses[['loss', 'val_loss']].plot()"
      ],
      "execution_count": 65,
      "outputs": [
        {
          "output_type": "execute_result",
          "data": {
            "text/plain": [
              "<matplotlib.axes._subplots.AxesSubplot at 0x7f32c9a1b110>"
            ]
          },
          "metadata": {},
          "execution_count": 65
        },
        {
          "output_type": "display_data",
          "data": {
            "image/png": "[encoded data removed]",
            "text/plain": [
              "<Figure size 432x288 with 1 Axes>"
            ]
          },
          "metadata": {
            "needs_background": "light"
          }
        }
      ]
    },
    {
      "cell_type": "code",
      "metadata": {
        "colab": {
          "base_uri": "https://localhost:8080/",
          "height": 282
        },
        "id": "EaobBsAYg8P1",
        "outputId": "fddb99cc-b487-4c5c-e1e9-5951ef46a4ac"
      },
      "source": [
        "losses[['accuracy', 'val_accuracy']].plot()"
      ],
      "execution_count": 66,
      "outputs": [
        {
          "output_type": "execute_result",
          "data": {
            "text/plain": [
              "<matplotlib.axes._subplots.AxesSubplot at 0x7f32c9916450>"
            ]
          },
          "metadata": {},
          "execution_count": 66
        },
        {
          "output_type": "display_data",
          "data": {
            "image/png": "[encoded data removed]",
            "text/plain": [
              "<Figure size 432x288 with 1 Axes>"
            ]
          },
          "metadata": {
            "needs_background": "light"
          }
        }
      ]
    },
    {
      "cell_type": "code",
      "metadata": {
        "colab": {
          "base_uri": "https://localhost:8080/"
        },
        "id": "UaYUKHE4hFD6",
        "outputId": "b82f7add-0d58-4316-bf7b-d80a15b6d7f5"
      },
      "source": [
        "from sklearn.metrics import classification_report, confusion_matrix\n",
        "\n",
        "predictions = model.predict(X_test)\n",
        "classes=to_categorical(np.argmax(predictions,axis=1))\n",
        "print(classification_report(y_test, classes))"
      ],
      "execution_count": 74,
      "outputs": [
        {
          "output_type": "stream",
          "text": [
            "              precision    recall  f1-score   support\n",
            "\n",
            "           0       0.98      0.99      0.99       980\n",
            "           1       1.00      0.99      1.00      1135\n",
            "           2       0.98      0.99      0.99      1032\n",
            "           3       0.99      0.98      0.98      1010\n",
            "           4       0.99      0.97      0.98       982\n",
            "           5       0.98      0.99      0.98       892\n",
            "           6       0.99      0.98      0.98       958\n",
            "           7       0.99      0.99      0.99      1028\n",
            "           8       0.98      0.98      0.98       974\n",
            "           9       0.97      0.98      0.98      1009\n",
            "\n",
            "   micro avg       0.98      0.98      0.98     10000\n",
            "   macro avg       0.98      0.98      0.98     10000\n",
            "weighted avg       0.98      0.98      0.98     10000\n",
            " samples avg       0.98      0.98      0.98     10000\n",
            "\n"
          ],
          "name": "stdout"
        }
      ]
    },
    {
      "cell_type": "code",
      "metadata": {
        "colab": {
          "base_uri": "https://localhost:8080/",
          "height": 282
        },
        "id": "kuS59qJghbZR",
        "outputId": "3314c372-7672-4082-91e8-813aeac0f432"
      },
      "source": [
        "sns.heatmap(confusion_matrix(y_test.argmax(axis=1), classes.argmax(axis=1)), annot=True)"
      ],
      "execution_count": 82,
      "outputs": [
        {
          "output_type": "execute_result",
          "data": {
            "text/plain": [
              "<matplotlib.axes._subplots.AxesSubplot at 0x7f32bc342b50>"
            ]
          },
          "metadata": {},
          "execution_count": 82
        },
        {
          "output_type": "display_data",
          "data": {
            "image/png": "[encoded data removed]",
            "text/plain": [
              "<Figure size 432x288 with 2 Axes>"
            ]
          },
          "metadata": {
            "needs_background": "light"
          }
        }
      ]
    }
  ]
}