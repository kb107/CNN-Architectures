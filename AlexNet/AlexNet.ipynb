{
  "nbformat": 4,
  "nbformat_minor": 0,
  "metadata": {
    "colab": {
      "name": "AlexNet.ipynb",
      "provenance": [],
      "authorship_tag": "ABX9TyOHXdSOuUnAp11tdGN/TxWy",
      "include_colab_link": true
    },
    "kernelspec": {
      "name": "python3",
      "display_name": "Python 3"
    },
    "language_info": {
      "name": "python"
    },
    "accelerator": "TPU"
  },
  "cells": [
    {
      "cell_type": "markdown",
      "metadata": {
        "id": "view-in-github",
        "colab_type": "text"
      },
      "source": [
        "<a href=\"https://colab.research.google.com/github/kb107/CNN-Architectures/blob/main/AlexNet/AlexNet.ipynb\" target=\"_parent\"><img src=\"https://colab.research.google.com/assets/colab-badge.svg\" alt=\"Open In Colab\"/></a>"
      ]
    },
    {
      "cell_type": "code",
      "metadata": {
        "id": "SlsPnFEFOdpN"
      },
      "source": [
        "import tensorflow as tf\n",
        "from tensorflow import keras\n",
        "import numpy as np\n",
        "import pandas as pd\n",
        "import matplotlib.pyplot as plt\n",
        "import time"
      ],
      "execution_count": 95,
      "outputs": []
    },
    {
      "cell_type": "code",
      "metadata": {
        "id": "Ho9U2xGbOyPU"
      },
      "source": [
        "(X_train, y_train), (X_test, y_test) = keras.datasets.cifar10.load_data()"
      ],
      "execution_count": 96,
      "outputs": []
    },
    {
      "cell_type": "code",
      "metadata": {
        "id": "QJ_SMvg7PW8D"
      },
      "source": [
        "X_valid = X_train[:5000]\n",
        "y_valid = y_train[:5000]\n",
        "X_train = X_train[5000:]\n",
        "y_train = y_train[5000:]\n",
        "\n",
        "from tensorflow.keras.utils import to_categorical\n",
        "y_train = to_categorical(y_train)\n",
        "y_valid = to_categorical(y_valid)\n",
        "y_test = to_categorical(y_test)"
      ],
      "execution_count": 126,
      "outputs": []
    },
    {
      "cell_type": "code",
      "metadata": {
        "id": "NhmgWx8oPqPQ"
      },
      "source": [
        "train_tf = tf.data.Dataset.from_tensor_slices((X_train, y_train))\n",
        "test_tf = tf.data.Dataset.from_tensor_slices((X_test, y_test))\n",
        "valid_tf = tf.data.Dataset.from_tensor_slices((X_valid, y_valid))"
      ],
      "execution_count": 127,
      "outputs": []
    },
    {
      "cell_type": "code",
      "metadata": {
        "id": "Xrd_iQavRe5U"
      },
      "source": [
        "classes = ['airplane', 'automobile', 'bird', 'cat', \n",
        "           'deer', 'dog', 'frog', 'horse', 'ship', \n",
        "           'truck']"
      ],
      "execution_count": 99,
      "outputs": []
    },
    {
      "cell_type": "code",
      "metadata": {
        "colab": {
          "base_uri": "https://localhost:8080/",
          "height": 234
        },
        "id": "f-0JLlwCQG4R",
        "outputId": "96ce1e84-bb92-4568-b9b5-428bff12eaa3"
      },
      "source": [
        "plt.figure(figsize=(20,20))\n",
        "for i, (img, label) in enumerate(train_tf.take(5)):\n",
        "  ax = plt.subplot(1,5,i+1)\n",
        "  plt.imshow(img)\n",
        "  plt.title(classes[label.numpy().argmax()])\n",
        "  plt.axis('off')"
      ],
      "execution_count": 100,
      "outputs": [
        {
          "output_type": "display_data",
          "data": {
            "image/png": "[encoded data removed]",
            "text/plain": [
              "<Figure size 1440x1440 with 5 Axes>"
            ]
          },
          "metadata": {
            "needs_background": "light"
          }
        }
      ]
    },
    {
      "cell_type": "code",
      "metadata": {
        "id": "rZhsLNZqROMa"
      },
      "source": [
        "def pre_process(img, label):\n",
        "  img = tf.image.per_image_standardization(img)\n",
        "  img = tf.image.resize(img, (227, 227))\n",
        "  return img, label"
      ],
      "execution_count": 101,
      "outputs": []
    },
    {
      "cell_type": "code",
      "metadata": {
        "colab": {
          "base_uri": "https://localhost:8080/"
        },
        "id": "OFF6_tAUSnWs",
        "outputId": "94672250-df3d-49b8-cd8d-9c884c7e7d98"
      },
      "source": [
        "train_tf_size = tf.data.experimental.cardinality(train_tf).numpy()\n",
        "test_tf_size = tf.data.experimental.cardinality(test_tf).numpy()\n",
        "valid_tf_size = tf.data.experimental.cardinality(valid_tf).numpy()\n",
        "print(\"Training data size:\", train_tf_size)\n",
        "print(\"Test data size:\", test_tf_size)\n",
        "print(\"Validation data size:\", valid_tf_size)"
      ],
      "execution_count": 128,
      "outputs": [
        {
          "output_type": "stream",
          "text": [
            "Training data size: 40000\n",
            "Test data size: 10000\n",
            "Validation data size: 5000\n"
          ],
          "name": "stdout"
        }
      ]
    },
    {
      "cell_type": "code",
      "metadata": {
        "id": "DojVKLB4S_E-"
      },
      "source": [
        "train_tf = (train_tf.map(pre_process)\n",
        "                    .shuffle(buffer_size=train_tf_size)\n",
        "                    .batch(batch_size=32, drop_remainder=True))\n",
        "\n",
        "test_tf = (test_tf.map(pre_process)\n",
        "                    .shuffle(buffer_size=test_tf_size)\n",
        "                    .batch(batch_size=32, drop_remainder=True))\n",
        "\n",
        "valid_tf = (valid_tf.map(pre_process)\n",
        "                    .shuffle(buffer_size=valid_tf_size)\n",
        "                    .batch(batch_size=32, drop_remainder=True))"
      ],
      "execution_count": 129,
      "outputs": []
    },
    {
      "cell_type": "code",
      "metadata": {
        "colab": {
          "base_uri": "https://localhost:8080/"
        },
        "id": "KgsIb68IgVsx",
        "outputId": "eca203cf-1ad7-45b1-8d48-8a5714983565"
      },
      "source": [
        "train_tf"
      ],
      "execution_count": 104,
      "outputs": [
        {
          "output_type": "execute_result",
          "data": {
            "text/plain": [
              "<BatchDataset shapes: ((32, 227, 227, 3), (32, 10)), types: (tf.float32, tf.float32)>"
            ]
          },
          "metadata": {},
          "execution_count": 104
        }
      ]
    },
    {
      "cell_type": "code",
      "metadata": {
        "colab": {
          "base_uri": "https://localhost:8080/"
        },
        "id": "FllrCYc8VGe3",
        "outputId": "82ca929c-978c-42ff-cad3-96abc02cc7df"
      },
      "source": [
        "try:\n",
        "  tpu = tf.distribute.cluster_resolver.TPUClusterResolver()  # TPU detection\n",
        "  print('Running on TPU ', tpu.cluster_spec().as_dict()['worker'])\n",
        "except ValueError:\n",
        "  raise BaseException('ERROR: Not connected to a TPU runtime; please see the previous cell in this notebook for instructions!')\n",
        "\n",
        "tf.config.experimental_connect_to_cluster(tpu)\n",
        "tf.tpu.experimental.initialize_tpu_system(tpu)\n",
        "tpu_strategy = tf.distribute.experimental.TPUStrategy(tpu)"
      ],
      "execution_count": 105,
      "outputs": [
        {
          "output_type": "stream",
          "text": [
            "Running on TPU  ['10.59.38.250:8470']\n",
            "INFO:tensorflow:Clearing out eager caches\n"
          ],
          "name": "stdout"
        },
        {
          "output_type": "stream",
          "text": [
            "INFO:tensorflow:Clearing out eager caches\n"
          ],
          "name": "stderr"
        },
        {
          "output_type": "stream",
          "text": [
            "WARNING:tensorflow:TPU system grpc://10.59.38.250:8470 has already been initialized. Reinitializing the TPU can cause previously created variables on TPU to be lost.\n"
          ],
          "name": "stdout"
        },
        {
          "output_type": "stream",
          "text": [
            "WARNING:tensorflow:TPU system grpc://10.59.38.250:8470 has already been initialized. Reinitializing the TPU can cause previously created variables on TPU to be lost.\n"
          ],
          "name": "stderr"
        },
        {
          "output_type": "stream",
          "text": [
            "INFO:tensorflow:Initializing the TPU system: grpc://10.59.38.250:8470\n"
          ],
          "name": "stdout"
        },
        {
          "output_type": "stream",
          "text": [
            "INFO:tensorflow:Initializing the TPU system: grpc://10.59.38.250:8470\n"
          ],
          "name": "stderr"
        },
        {
          "output_type": "stream",
          "text": [
            "INFO:tensorflow:Finished initializing TPU system.\n"
          ],
          "name": "stdout"
        },
        {
          "output_type": "stream",
          "text": [
            "INFO:tensorflow:Finished initializing TPU system.\n",
            "WARNING:absl:`tf.distribute.experimental.TPUStrategy` is deprecated, please use  the non experimental symbol `tf.distribute.TPUStrategy` instead.\n"
          ],
          "name": "stderr"
        },
        {
          "output_type": "stream",
          "text": [
            "INFO:tensorflow:Found TPU system:\n"
          ],
          "name": "stdout"
        },
        {
          "output_type": "stream",
          "text": [
            "INFO:tensorflow:Found TPU system:\n"
          ],
          "name": "stderr"
        },
        {
          "output_type": "stream",
          "text": [
            "INFO:tensorflow:*** Num TPU Cores: 8\n"
          ],
          "name": "stdout"
        },
        {
          "output_type": "stream",
          "text": [
            "INFO:tensorflow:*** Num TPU Cores: 8\n"
          ],
          "name": "stderr"
        },
        {
          "output_type": "stream",
          "text": [
            "INFO:tensorflow:*** Num TPU Workers: 1\n"
          ],
          "name": "stdout"
        },
        {
          "output_type": "stream",
          "text": [
            "INFO:tensorflow:*** Num TPU Workers: 1\n"
          ],
          "name": "stderr"
        },
        {
          "output_type": "stream",
          "text": [
            "INFO:tensorflow:*** Num TPU Cores Per Worker: 8\n"
          ],
          "name": "stdout"
        },
        {
          "output_type": "stream",
          "text": [
            "INFO:tensorflow:*** Num TPU Cores Per Worker: 8\n"
          ],
          "name": "stderr"
        },
        {
          "output_type": "stream",
          "text": [
            "INFO:tensorflow:*** Available Device: _DeviceAttributes(/job:localhost/replica:0/task:0/device:CPU:0, CPU, 0, 0)\n"
          ],
          "name": "stdout"
        },
        {
          "output_type": "stream",
          "text": [
            "INFO:tensorflow:*** Available Device: _DeviceAttributes(/job:localhost/replica:0/task:0/device:CPU:0, CPU, 0, 0)\n"
          ],
          "name": "stderr"
        },
        {
          "output_type": "stream",
          "text": [
            "INFO:tensorflow:*** Available Device: _DeviceAttributes(/job:worker/replica:0/task:0/device:CPU:0, CPU, 0, 0)\n"
          ],
          "name": "stdout"
        },
        {
          "output_type": "stream",
          "text": [
            "INFO:tensorflow:*** Available Device: _DeviceAttributes(/job:worker/replica:0/task:0/device:CPU:0, CPU, 0, 0)\n"
          ],
          "name": "stderr"
        },
        {
          "output_type": "stream",
          "text": [
            "INFO:tensorflow:*** Available Device: _DeviceAttributes(/job:worker/replica:0/task:0/device:TPU:0, TPU, 0, 0)\n"
          ],
          "name": "stdout"
        },
        {
          "output_type": "stream",
          "text": [
            "INFO:tensorflow:*** Available Device: _DeviceAttributes(/job:worker/replica:0/task:0/device:TPU:0, TPU, 0, 0)\n"
          ],
          "name": "stderr"
        },
        {
          "output_type": "stream",
          "text": [
            "INFO:tensorflow:*** Available Device: _DeviceAttributes(/job:worker/replica:0/task:0/device:TPU:1, TPU, 0, 0)\n"
          ],
          "name": "stdout"
        },
        {
          "output_type": "stream",
          "text": [
            "INFO:tensorflow:*** Available Device: _DeviceAttributes(/job:worker/replica:0/task:0/device:TPU:1, TPU, 0, 0)\n"
          ],
          "name": "stderr"
        },
        {
          "output_type": "stream",
          "text": [
            "INFO:tensorflow:*** Available Device: _DeviceAttributes(/job:worker/replica:0/task:0/device:TPU:2, TPU, 0, 0)\n"
          ],
          "name": "stdout"
        },
        {
          "output_type": "stream",
          "text": [
            "INFO:tensorflow:*** Available Device: _DeviceAttributes(/job:worker/replica:0/task:0/device:TPU:2, TPU, 0, 0)\n"
          ],
          "name": "stderr"
        },
        {
          "output_type": "stream",
          "text": [
            "INFO:tensorflow:*** Available Device: _DeviceAttributes(/job:worker/replica:0/task:0/device:TPU:3, TPU, 0, 0)\n"
          ],
          "name": "stdout"
        },
        {
          "output_type": "stream",
          "text": [
            "INFO:tensorflow:*** Available Device: _DeviceAttributes(/job:worker/replica:0/task:0/device:TPU:3, TPU, 0, 0)\n"
          ],
          "name": "stderr"
        },
        {
          "output_type": "stream",
          "text": [
            "INFO:tensorflow:*** Available Device: _DeviceAttributes(/job:worker/replica:0/task:0/device:TPU:4, TPU, 0, 0)\n"
          ],
          "name": "stdout"
        },
        {
          "output_type": "stream",
          "text": [
            "INFO:tensorflow:*** Available Device: _DeviceAttributes(/job:worker/replica:0/task:0/device:TPU:4, TPU, 0, 0)\n"
          ],
          "name": "stderr"
        },
        {
          "output_type": "stream",
          "text": [
            "INFO:tensorflow:*** Available Device: _DeviceAttributes(/job:worker/replica:0/task:0/device:TPU:5, TPU, 0, 0)\n"
          ],
          "name": "stdout"
        },
        {
          "output_type": "stream",
          "text": [
            "INFO:tensorflow:*** Available Device: _DeviceAttributes(/job:worker/replica:0/task:0/device:TPU:5, TPU, 0, 0)\n"
          ],
          "name": "stderr"
        },
        {
          "output_type": "stream",
          "text": [
            "INFO:tensorflow:*** Available Device: _DeviceAttributes(/job:worker/replica:0/task:0/device:TPU:6, TPU, 0, 0)\n"
          ],
          "name": "stdout"
        },
        {
          "output_type": "stream",
          "text": [
            "INFO:tensorflow:*** Available Device: _DeviceAttributes(/job:worker/replica:0/task:0/device:TPU:6, TPU, 0, 0)\n"
          ],
          "name": "stderr"
        },
        {
          "output_type": "stream",
          "text": [
            "INFO:tensorflow:*** Available Device: _DeviceAttributes(/job:worker/replica:0/task:0/device:TPU:7, TPU, 0, 0)\n"
          ],
          "name": "stdout"
        },
        {
          "output_type": "stream",
          "text": [
            "INFO:tensorflow:*** Available Device: _DeviceAttributes(/job:worker/replica:0/task:0/device:TPU:7, TPU, 0, 0)\n"
          ],
          "name": "stderr"
        },
        {
          "output_type": "stream",
          "text": [
            "INFO:tensorflow:*** Available Device: _DeviceAttributes(/job:worker/replica:0/task:0/device:TPU_SYSTEM:0, TPU_SYSTEM, 0, 0)\n"
          ],
          "name": "stdout"
        },
        {
          "output_type": "stream",
          "text": [
            "INFO:tensorflow:*** Available Device: _DeviceAttributes(/job:worker/replica:0/task:0/device:TPU_SYSTEM:0, TPU_SYSTEM, 0, 0)\n"
          ],
          "name": "stderr"
        },
        {
          "output_type": "stream",
          "text": [
            "INFO:tensorflow:*** Available Device: _DeviceAttributes(/job:worker/replica:0/task:0/device:XLA_CPU:0, XLA_CPU, 0, 0)\n"
          ],
          "name": "stdout"
        },
        {
          "output_type": "stream",
          "text": [
            "INFO:tensorflow:*** Available Device: _DeviceAttributes(/job:worker/replica:0/task:0/device:XLA_CPU:0, XLA_CPU, 0, 0)\n"
          ],
          "name": "stderr"
        }
      ]
    },
    {
      "cell_type": "code",
      "metadata": {
        "id": "h5FTnuF2ViRM"
      },
      "source": [
        "from tensorflow.keras.models import Sequential\n",
        "from tensorflow.keras.layers import Conv2D, BatchNormalization, MaxPool2D, Dense, Flatten, Dropout"
      ],
      "execution_count": 106,
      "outputs": []
    },
    {
      "cell_type": "code",
      "metadata": {
        "id": "jPFtsg5tVSGp"
      },
      "source": [
        "with tpu_strategy.scope():\n",
        "\n",
        "  model = Sequential()\n",
        "\n",
        "  model.add(Conv2D(filters=96, kernel_size=11,\n",
        "                   strides=4, activation='relu', input_shape=(227, 227, 3)))\n",
        "  model.add(BatchNormalization())\n",
        "  model.add(MaxPool2D(pool_size=3, strides=2))\n",
        "\n",
        "  \n",
        "  model.add(Conv2D(filters=256, kernel_size=5,\n",
        "                   strides=1, padding='same', \n",
        "                   activation='relu'))\n",
        "  model.add(BatchNormalization())\n",
        "  model.add(MaxPool2D(pool_size=3, strides=2))\n",
        "\n",
        "  \n",
        "  model.add(Conv2D(filters=384, kernel_size=3,\n",
        "                   strides=1, padding='same', \n",
        "                   activation='relu'))\n",
        "  model.add(BatchNormalization())\n",
        "\n",
        "  \n",
        "  model.add(Conv2D(filters=384, kernel_size=3,\n",
        "                   strides=1, padding='same', \n",
        "                   activation='relu'))\n",
        "  model.add(BatchNormalization())\n",
        "\n",
        "\n",
        "  model.add(Conv2D(filters=256, kernel_size=3,\n",
        "                   strides=1, padding='same', \n",
        "                   activation='relu'))\n",
        "  model.add(BatchNormalization())\n",
        "  model.add(MaxPool2D(pool_size=3, strides=2))\n",
        "\n",
        "  \n",
        "  model.add(Flatten())\n",
        "  model.add(Dense(units=4096, activation='relu'))\n",
        "  model.add(Dropout(rate=0.5))\n",
        "  model.add(Dense(units=4096, activation='relu'))\n",
        "  model.add(Dropout(rate=0.5))\n",
        "  model.add(Dense(units=10, activation='softmax'))\n",
        "\n",
        "\n",
        "  model.compile(optimizer='adam', loss='categorical_crossentropy', \n",
        "                metrics=['accuracy'])"
      ],
      "execution_count": 107,
      "outputs": []
    },
    {
      "cell_type": "code",
      "metadata": {
        "colab": {
          "base_uri": "https://localhost:8080/"
        },
        "id": "VUQyCQHYap1T",
        "outputId": "42b67f41-44bc-4ca3-9583-59df0e670f4b"
      },
      "source": [
        "model.summary()"
      ],
      "execution_count": 108,
      "outputs": [
        {
          "output_type": "stream",
          "text": [
            "Model: \"sequential_3\"\n",
            "_________________________________________________________________\n",
            "Layer (type)                 Output Shape              Param #   \n",
            "=================================================================\n",
            "conv2d_15 (Conv2D)           (None, 55, 55, 96)        34944     \n",
            "_________________________________________________________________\n",
            "batch_normalization_15 (Batc (None, 55, 55, 96)        384       \n",
            "_________________________________________________________________\n",
            "max_pooling2d_9 (MaxPooling2 (None, 27, 27, 96)        0         \n",
            "_________________________________________________________________\n",
            "conv2d_16 (Conv2D)           (None, 27, 27, 256)       614656    \n",
            "_________________________________________________________________\n",
            "batch_normalization_16 (Batc (None, 27, 27, 256)       1024      \n",
            "_________________________________________________________________\n",
            "max_pooling2d_10 (MaxPooling (None, 13, 13, 256)       0         \n",
            "_________________________________________________________________\n",
            "conv2d_17 (Conv2D)           (None, 13, 13, 384)       885120    \n",
            "_________________________________________________________________\n",
            "batch_normalization_17 (Batc (None, 13, 13, 384)       1536      \n",
            "_________________________________________________________________\n",
            "conv2d_18 (Conv2D)           (None, 13, 13, 384)       1327488   \n",
            "_________________________________________________________________\n",
            "batch_normalization_18 (Batc (None, 13, 13, 384)       1536      \n",
            "_________________________________________________________________\n",
            "conv2d_19 (Conv2D)           (None, 13, 13, 256)       884992    \n",
            "_________________________________________________________________\n",
            "batch_normalization_19 (Batc (None, 13, 13, 256)       1024      \n",
            "_________________________________________________________________\n",
            "max_pooling2d_11 (MaxPooling (None, 6, 6, 256)         0         \n",
            "_________________________________________________________________\n",
            "flatten_3 (Flatten)          (None, 9216)              0         \n",
            "_________________________________________________________________\n",
            "dense_9 (Dense)              (None, 4096)              37752832  \n",
            "_________________________________________________________________\n",
            "dropout_6 (Dropout)          (None, 4096)              0         \n",
            "_________________________________________________________________\n",
            "dense_10 (Dense)             (None, 4096)              16781312  \n",
            "_________________________________________________________________\n",
            "dropout_7 (Dropout)          (None, 4096)              0         \n",
            "_________________________________________________________________\n",
            "dense_11 (Dense)             (None, 10)                40970     \n",
            "=================================================================\n",
            "Total params: 58,327,818\n",
            "Trainable params: 58,325,066\n",
            "Non-trainable params: 2,752\n",
            "_________________________________________________________________\n"
          ],
          "name": "stdout"
        }
      ]
    },
    {
      "cell_type": "code",
      "metadata": {
        "id": "owVMhNtiasuf"
      },
      "source": [
        "from keras.callbacks import EarlyStopping\n",
        "\n",
        "early_stop = EarlyStopping(monitor='val_loss', patience=5, \n",
        "                           restore_best_weights=True)"
      ],
      "execution_count": 109,
      "outputs": []
    },
    {
      "cell_type": "code",
      "metadata": {
        "colab": {
          "base_uri": "https://localhost:8080/"
        },
        "id": "yPsfRq8ucKQj",
        "outputId": "47d0ee68-cce8-4f3d-984f-bcb658a3319f"
      },
      "source": [
        "model.fit(train_tf, epochs=500, validation_data=valid_tf,\n",
        "          callbacks=[early_stop])"
      ],
      "execution_count": 111,
      "outputs": [
        {
          "output_type": "stream",
          "text": [
            "Epoch 1/500\n",
            "1406/1406 [==============================] - 51s 35ms/step - loss: 1.9198 - accuracy: 0.3222 - val_loss: 1.8949 - val_accuracy: 0.4303\n",
            "Epoch 2/500\n",
            "1406/1406 [==============================] - 47s 32ms/step - loss: 1.7361 - accuracy: 0.3911 - val_loss: 1.4688 - val_accuracy: 0.5042\n",
            "Epoch 3/500\n",
            "1406/1406 [==============================] - 47s 32ms/step - loss: 1.4751 - accuracy: 0.4899 - val_loss: 1.1906 - val_accuracy: 0.5867\n",
            "Epoch 4/500\n",
            "1406/1406 [==============================] - 47s 32ms/step - loss: 1.2448 - accuracy: 0.5777 - val_loss: 1.1177 - val_accuracy: 0.6262\n",
            "Epoch 5/500\n",
            "1406/1406 [==============================] - 47s 32ms/step - loss: 1.0694 - accuracy: 0.6431 - val_loss: 0.9121 - val_accuracy: 0.7037\n",
            "Epoch 6/500\n",
            "1406/1406 [==============================] - 47s 32ms/step - loss: 0.9352 - accuracy: 0.6865 - val_loss: 0.9001 - val_accuracy: 0.7256\n",
            "Epoch 7/500\n",
            "1406/1406 [==============================] - 47s 32ms/step - loss: 0.8344 - accuracy: 0.7207 - val_loss: 0.7810 - val_accuracy: 0.7462\n",
            "Epoch 8/500\n",
            "1406/1406 [==============================] - 46s 32ms/step - loss: 0.7394 - accuracy: 0.7538 - val_loss: 0.8467 - val_accuracy: 0.7446\n",
            "Epoch 9/500\n",
            "1406/1406 [==============================] - 47s 32ms/step - loss: 0.6639 - accuracy: 0.7812 - val_loss: 0.8855 - val_accuracy: 0.7550\n",
            "Epoch 10/500\n",
            "1406/1406 [==============================] - 47s 32ms/step - loss: 0.5976 - accuracy: 0.8035 - val_loss: 0.7232 - val_accuracy: 0.7658\n",
            "Epoch 11/500\n",
            "1406/1406 [==============================] - 46s 32ms/step - loss: 0.5504 - accuracy: 0.8209 - val_loss: 0.8525 - val_accuracy: 0.7570\n",
            "Epoch 12/500\n",
            "1406/1406 [==============================] - 47s 32ms/step - loss: 0.4968 - accuracy: 0.8381 - val_loss: 0.7864 - val_accuracy: 0.7660\n",
            "Epoch 13/500\n",
            "1406/1406 [==============================] - 47s 32ms/step - loss: 0.4497 - accuracy: 0.8528 - val_loss: 0.6591 - val_accuracy: 0.8009\n",
            "Epoch 14/500\n",
            "1406/1406 [==============================] - 47s 32ms/step - loss: 0.4222 - accuracy: 0.8677 - val_loss: 0.6388 - val_accuracy: 0.8033\n",
            "Epoch 15/500\n",
            "1406/1406 [==============================] - 47s 32ms/step - loss: 0.3802 - accuracy: 0.8778 - val_loss: 0.6501 - val_accuracy: 0.8115\n",
            "Epoch 16/500\n",
            "1406/1406 [==============================] - 47s 32ms/step - loss: 0.3447 - accuracy: 0.8896 - val_loss: 0.6324 - val_accuracy: 0.8061\n",
            "Epoch 17/500\n",
            "1406/1406 [==============================] - 47s 32ms/step - loss: 0.3371 - accuracy: 0.8944 - val_loss: 0.6958 - val_accuracy: 0.7927\n",
            "Epoch 18/500\n",
            "1406/1406 [==============================] - 47s 32ms/step - loss: 0.3119 - accuracy: 0.9023 - val_loss: 0.8209 - val_accuracy: 0.8023\n",
            "Epoch 19/500\n",
            "1406/1406 [==============================] - 47s 32ms/step - loss: 0.2921 - accuracy: 0.9107 - val_loss: 0.7923 - val_accuracy: 0.8087\n",
            "Epoch 20/500\n",
            "1406/1406 [==============================] - 47s 32ms/step - loss: 0.2714 - accuracy: 0.9164 - val_loss: 0.7025 - val_accuracy: 0.8095\n",
            "Epoch 21/500\n",
            "1406/1406 [==============================] - 47s 32ms/step - loss: 0.2702 - accuracy: 0.9180 - val_loss: 0.7782 - val_accuracy: 0.8061\n"
          ],
          "name": "stdout"
        },
        {
          "output_type": "execute_result",
          "data": {
            "text/plain": [
              "<keras.callbacks.History at 0x7f37afbc6bd0>"
            ]
          },
          "metadata": {},
          "execution_count": 111
        }
      ]
    },
    {
      "cell_type": "code",
      "metadata": {
        "colab": {
          "base_uri": "https://localhost:8080/",
          "height": 205
        },
        "id": "r65cECRXcpHJ",
        "outputId": "457ee5a8-0e03-4d51-dd5c-ffa8419b96f7"
      },
      "source": [
        "losses = pd.DataFrame(model.history.history)\n",
        "losses.head()"
      ],
      "execution_count": 112,
      "outputs": [
        {
          "output_type": "execute_result",
          "data": {
            "text/html": [
              "<div>\n",
              "<style scoped>\n",
              "    .dataframe tbody tr th:only-of-type {\n",
              "        vertical-align: middle;\n",
              "    }\n",
              "\n",
              "    .dataframe tbody tr th {\n",
              "        vertical-align: top;\n",
              "    }\n",
              "\n",
              "    .dataframe thead th {\n",
              "        text-align: right;\n",
              "    }\n",
              "</style>\n",
              "<table border=\"1\" class=\"dataframe\">\n",
              "  <thead>\n",
              "    <tr style=\"text-align: right;\">\n",
              "      <th></th>\n",
              "      <th>loss</th>\n",
              "      <th>accuracy</th>\n",
              "      <th>val_loss</th>\n",
              "      <th>val_accuracy</th>\n",
              "    </tr>\n",
              "  </thead>\n",
              "  <tbody>\n",
              "    <tr>\n",
              "      <th>0</th>\n",
              "      <td>1.919767</td>\n",
              "      <td>0.322213</td>\n",
              "      <td>1.894896</td>\n",
              "      <td>0.430288</td>\n",
              "    </tr>\n",
              "    <tr>\n",
              "      <th>1</th>\n",
              "      <td>1.736083</td>\n",
              "      <td>0.391136</td>\n",
              "      <td>1.468764</td>\n",
              "      <td>0.504207</td>\n",
              "    </tr>\n",
              "    <tr>\n",
              "      <th>2</th>\n",
              "      <td>1.475116</td>\n",
              "      <td>0.489865</td>\n",
              "      <td>1.190608</td>\n",
              "      <td>0.586739</td>\n",
              "    </tr>\n",
              "    <tr>\n",
              "      <th>3</th>\n",
              "      <td>1.244836</td>\n",
              "      <td>0.577747</td>\n",
              "      <td>1.117691</td>\n",
              "      <td>0.626202</td>\n",
              "    </tr>\n",
              "    <tr>\n",
              "      <th>4</th>\n",
              "      <td>1.069380</td>\n",
              "      <td>0.643092</td>\n",
              "      <td>0.912096</td>\n",
              "      <td>0.703726</td>\n",
              "    </tr>\n",
              "  </tbody>\n",
              "</table>\n",
              "</div>"
            ],
            "text/plain": [
              "       loss  accuracy  val_loss  val_accuracy\n",
              "0  1.919767  0.322213  1.894896      0.430288\n",
              "1  1.736083  0.391136  1.468764      0.504207\n",
              "2  1.475116  0.489865  1.190608      0.586739\n",
              "3  1.244836  0.577747  1.117691      0.626202\n",
              "4  1.069380  0.643092  0.912096      0.703726"
            ]
          },
          "metadata": {},
          "execution_count": 112
        }
      ]
    },
    {
      "cell_type": "code",
      "metadata": {
        "colab": {
          "base_uri": "https://localhost:8080/",
          "height": 286
        },
        "id": "GYJ8N7TzyF4V",
        "outputId": "d5b0e82b-8fc4-4d34-a917-5ef1a44d1a1c"
      },
      "source": [
        "losses[['loss', 'val_loss']].plot()"
      ],
      "execution_count": 113,
      "outputs": [
        {
          "output_type": "execute_result",
          "data": {
            "text/plain": [
              "<matplotlib.axes._subplots.AxesSubplot at 0x7f37afb6e410>"
            ]
          },
          "metadata": {},
          "execution_count": 113
        },
        {
          "output_type": "display_data",
          "data": {
            "image/png": "[encoded data removed]",
            "text/plain": [
              "<Figure size 432x288 with 1 Axes>"
            ]
          },
          "metadata": {
            "needs_background": "light"
          }
        }
      ]
    },
    {
      "cell_type": "code",
      "metadata": {
        "colab": {
          "base_uri": "https://localhost:8080/",
          "height": 282
        },
        "id": "Nk5fxHYHyOtU",
        "outputId": "a70e1e13-6ddd-421b-9bf9-8f2ba595c115"
      },
      "source": [
        "losses[['accuracy', 'val_accuracy']].plot()"
      ],
      "execution_count": 114,
      "outputs": [
        {
          "output_type": "execute_result",
          "data": {
            "text/plain": [
              "<matplotlib.axes._subplots.AxesSubplot at 0x7f37b20ab4d0>"
            ]
          },
          "metadata": {},
          "execution_count": 114
        },
        {
          "output_type": "display_data",
          "data": {
            "image/png": "[encoded data removed]",
            "text/plain": [
              "<Figure size 432x288 with 1 Axes>"
            ]
          },
          "metadata": {
            "needs_background": "light"
          }
        }
      ]
    },
    {
      "cell_type": "code",
      "metadata": {
        "colab": {
          "base_uri": "https://localhost:8080/"
        },
        "id": "awHIr0qv0h9Z",
        "outputId": "7189d705-f6ef-49b5-f18b-ecbcd5462864"
      },
      "source": [
        "print(model.evaluate(test_tf))"
      ],
      "execution_count": 130,
      "outputs": [
        {
          "output_type": "stream",
          "text": [
            "312/312 [==============================] - 5s 12ms/step - loss: 0.7039 - accuracy: 0.7912\n",
            "[0.7038571238517761, 0.7911658883094788]\n"
          ],
          "name": "stdout"
        }
      ]
    }
  ]
}